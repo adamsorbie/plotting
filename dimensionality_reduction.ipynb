{
 "cells": [
  {
   "cell_type": "code",
   "execution_count": 11,
   "metadata": {},
   "outputs": [],
   "source": [
    "from ggplot import *\n",
    "import pandas as pd\n",
    "import numpy as np\n",
    "from sklearn.manifold import TSNE\n",
    "from sklearn.manifold import MDS\n",
    "from sklearn.decomposition import PCA"
   ]
  },
  {
   "cell_type": "code",
   "execution_count": 12,
   "metadata": {
    "collapsed": true
   },
   "outputs": [],
   "source": [
    "def generate_pca(X, y, cols, n_components, **kwargs):\n",
    "    \"\"\"Generate PCA plot coloured by class\n",
    "    Parameters \n",
    "    ----------\n",
    "    X: numpy ndarray/dataframe of same type\n",
    "        Values to fit. \n",
    "    y: Pandas Series \n",
    "        Categorical labels.\n",
    "    \n",
    "    cols: list\n",
    "        Column names for pca df e.g. PCA-1, PCA-2.\n",
    "    \n",
    "    n_components: int\n",
    "        Number of components to keep.\"\"\"\n",
    "    \n",
    "    pca = PCA(n_components, **kwargs)\n",
    "    pca_result = pca.fit_transform(X)\n",
    "    pca_df = pd.DataFrame(pca_result, columns=cols, index=X.index)\n",
    "    pca_df['label'] = y\n",
    "    pca_plot = ggplot(pca_df, aes(x=\"PCA-1\", y=\"PCA-2\", color='label') ) \\\n",
    "        + geom_point(size=100,alpha=0.8) \\\n",
    "        + ggtitle(\"First and Second Principal Components colored by class\")\n",
    "    return pca_plot"
   ]
  },
  {
   "cell_type": "code",
   "execution_count": 13,
   "metadata": {
    "collapsed": true
   },
   "outputs": [],
   "source": [
    "def generate_tsne(X, y, cols, use_pca=True, n_components=3, **kwargs):\n",
    "    \"\"\"Generate tsne plot coloured by class using principal components or raw data\n",
    "    Parameters \n",
    "    ----------\n",
    "    X: numpy ndarray/dataframe of same type\n",
    "        Values to fit. \n",
    "    \n",
    "    y: Pandas Series\n",
    "        Categorical labels.\n",
    "     \n",
    "    cols: list\n",
    "        Column names for tsne dataframe e.g. tsne, tsne-2.\n",
    "        \n",
    "    use_pca: string, optional (default: True) \n",
    "        whether to use principal components to fit tsne or use raw data.\n",
    "        \n",
    "    n_components: int, optional (default: 3) \n",
    "        Number of components to keep.\"\"\" \n",
    "    \n",
    "    tsne = TSNE(n_components=2, verbose=1, perplexity=40, n_iter=10000, init='random', random_state=42, **kwargs)\n",
    "    if PCA: \n",
    "        pca = PCA(n_components, **kwargs)\n",
    "        pca_result = pca.fit_transform(X)\n",
    "        tsne_result = tsne.fit_transform(pca_result)\n",
    "        tsne_df = pd.DataFrame(tsne_result, columns=cols, index=X.index)\n",
    "        tsne_df['label'] = y\n",
    "        tsne_plot = ggplot(tsne_df, aes(x='tsne-1', y='tsne-2', color='label') ) \\\n",
    "        + geom_point(size=70,alpha=1) \\\n",
    "        + ggtitle(\"tSNE dimensions colored by class\")\n",
    "        return tsne_plot\n",
    "    elif not PCA:\n",
    "        tsne_results = tsne.fit_transform(X)\n",
    "        tsne_df = pd.DataFrame(tsne_result, columns=cols, index=X.index)\n",
    "        tsne_df['label'] = y\n",
    "        tsne_plot = ggplot(tsne_df, aes(x='tsne-1', y='tsne-2', color='label') ) \\\n",
    "        + geom_point(size=70,alpha=1) \\\n",
    "        + ggtitle(\"tSNE dimensions colored by class\")\n",
    "        return tsne_plot"
   ]
  },
  {
   "cell_type": "code",
   "execution_count": 18,
   "metadata": {},
   "outputs": [],
   "source": [
    "def generate_MDS(X, y, cols, n_components, metric=False, **kwargs):\n",
    "    \"\"\"Generate tsne plot coloured by class using principal components or raw data\n",
    "    Parameters \n",
    "    ----------\n",
    "    X: numpy ndarray/dataframe of same type\n",
    "        Values to fit. \n",
    "    \n",
    "    y: Pandas Series\n",
    "        Categorical labels.\n",
    "     \n",
    "    cols: list\n",
    "        Column names for MDS/NMDS dataframe e.g. MDS-1, MDS-2.\n",
    "    \n",
    "    n_components: int, optional (default: 3) \n",
    "        Number of dimensions in which to immerse the dissimilarities.\n",
    "          \n",
    "    metric: bool (default: False)\n",
    "        True: metric multidimensional-scaling, False: performs non-metric multidimensional scaling.\n",
    "        \"\"\"  \n",
    "    mds = MDS(n_components=n_components, metric=metric, dissimilarity='precomputed')\n",
    "    mds_result = mds.fit_transform(X)\n",
    "    mds_df = pd.DataFrame(mds_result, columns=cols, index=X.index)\n",
    "    mds_df['label'] = y\n",
    "    mds_plot = ggplot(mds_df, aes(x='MDS-1', y='MDS-2', color='label') ) \\\n",
    "    + geom_point(size=70,alpha=1) \\\n",
    "    + ggtitle(\"MDS plot colored by class\")\n",
    "    return mds_plot    "
   ]
  },
  {
   "cell_type": "code",
   "execution_count": null,
   "metadata": {
    "collapsed": true
   },
   "outputs": [],
   "source": [
    "   "
   ]
  }
 ],
 "metadata": {
  "kernelspec": {
   "display_name": "Python [conda env:Anaconda3]",
   "language": "python",
   "name": "conda-env-Anaconda3-py"
  },
  "language_info": {
   "codemirror_mode": {
    "name": "ipython",
    "version": 3
   },
   "file_extension": ".py",
   "mimetype": "text/x-python",
   "name": "python",
   "nbconvert_exporter": "python",
   "pygments_lexer": "ipython3",
   "version": "3.6.3"
  }
 },
 "nbformat": 4,
 "nbformat_minor": 2
}
